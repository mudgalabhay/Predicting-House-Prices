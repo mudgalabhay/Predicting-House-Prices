{
 "cells": [
  {
   "cell_type": "markdown",
   "id": "fdc2fd76",
   "metadata": {},
   "source": [
    "---\n",
    "<h3><center>PREDICTING HOUSE PRICES : A Regression Example</center></h3>\n",
    "---\n"
   ]
  },
  {
   "cell_type": "markdown",
   "id": "6933450a",
   "metadata": {},
   "source": [
    "<h3>Problem Statement :</h3>\n",
    "---\n",
    "Predict median prices of homes in a given Boston suburb(Area where people live that is outside the central part of the city) in the mid 1970's given the data points such as crime rate, the local property tax rates etc.\n",
    "\n",
    "Dataset : Boston Housing Price \n",
    "\n",
    "Type of problem : Regression \n",
    "\n",
    "---\n"
   ]
  },
  {
   "cell_type": "code",
   "execution_count": 1,
   "id": "3c3371d0",
   "metadata": {},
   "outputs": [],
   "source": [
    "# Importing necessary libraries\n",
    "import numpy as np\n",
    "import pandas as pd\n",
    "\n",
    "import matplotlib.pyplot as plt\n",
    "\n",
    "import warnings\n",
    "warnings.filterwarnings('ignore')"
   ]
  },
  {
   "cell_type": "markdown",
   "id": "85014051",
   "metadata": {},
   "source": [
    "<h4>1. LOADING THE DATASET</h4>"
   ]
  },
  {
   "cell_type": "code",
   "execution_count": 2,
   "id": "202521b2",
   "metadata": {},
   "outputs": [],
   "source": [
    "# Loading the Boston housing dataset\n",
    "from keras.datasets import boston_housing"
   ]
  },
  {
   "cell_type": "code",
   "execution_count": 3,
   "id": "c43eb45f",
   "metadata": {},
   "outputs": [],
   "source": [
    "(train_data, train_targets) , (test_data, test_targets) = boston_housing.load_data()"
   ]
  },
  {
   "cell_type": "code",
   "execution_count": 4,
   "id": "a9708b2e",
   "metadata": {},
   "outputs": [
    {
     "name": "stdout",
     "output_type": "stream",
     "text": [
      "Number of sample available in train dataset is 404\n",
      "Number of features available in train dataset is 13\n",
      "Number of sample available in test dataset is 102\n",
      "Number of features available in test dataset is 13\n"
     ]
    }
   ],
   "source": [
    "print(\"Number of sample available in train dataset is {}\".format(train_data.shape[0]))\n",
    "\n",
    "print(\"Number of features available in train dataset is {}\".format(train_data.shape[1]))\n",
    "\n",
    "print(\"Number of sample available in test dataset is {}\".format(test_data.shape[0]))\n",
    "\n",
    "print(\"Number of features available in test dataset is {}\".format(test_data.shape[1]))"
   ]
  },
  {
   "cell_type": "markdown",
   "id": "aad127b8",
   "metadata": {},
   "source": [
    "<h4>2. EDA</h4>"
   ]
  },
  {
   "cell_type": "code",
   "execution_count": 5,
   "id": "c1a3c146",
   "metadata": {},
   "outputs": [
    {
     "name": "stdout",
     "output_type": "stream",
     "text": [
      "Max price of house 50.0\n",
      "Min price of house 5.0\n"
     ]
    }
   ],
   "source": [
    "print(\"Max price of house {}\".format(max(train_targets)))\n",
    "\n",
    "print(\"Min price of house {}\".format(min(train_targets)))"
   ]
  },
  {
   "cell_type": "markdown",
   "id": "d86d2682",
   "metadata": {},
   "source": [
    "<p>Observations :<p>\n",
    "    \n",
    "\n",
    "* These prices are typically between \\\\$ 5,000 and \\\\$ 50,000. If it sounds cheap, remember that the data is of mid-1970s, and these prices aren't just adjusted for inflation.\n",
    "* It would be problamatic to feed into a neual network values that take widely different ranges. Therefore computing feature wise normalization.\n",
    "\n",
    "    For each feature in input data:\n",
    "\n",
    "    Do subtract the mean of the feature & divide by standard deviation so that feature is centered around 0 and has a unit \n",
    "    standard deviation."
   ]
  },
  {
   "cell_type": "code",
   "execution_count": 6,
   "id": "4b5530d4",
   "metadata": {},
   "outputs": [
    {
     "name": "stdout",
     "output_type": "stream",
     "text": [
      "Mean : \n",
      " [3.74511057e+00 1.14801980e+01 1.11044307e+01 6.18811881e-02\n",
      " 5.57355941e-01 6.26708168e+00 6.90106436e+01 3.74027079e+00\n",
      " 9.44059406e+00 4.05898515e+02 1.84759901e+01 3.54783168e+02\n",
      " 1.27408168e+01]\n",
      "Standard Deviation : \n",
      " [9.22929073e+00 2.37382770e+01 6.80287253e+00 2.40939633e-01\n",
      " 1.17147847e-01 7.08908627e-01 2.79060634e+01 2.02770050e+00\n",
      " 8.68758849e+00 1.66168506e+02 2.19765689e+00 9.39946015e+01\n",
      " 7.24556085e+00]\n"
     ]
    }
   ],
   "source": [
    "# Preparing the data (Normalization) : To make learning of network easier\n",
    "\n",
    "mean = train_data.mean(axis=0)\n",
    "\n",
    "train_data -= mean\n",
    "\n",
    "std = train_data.std(axis=0)\n",
    "\n",
    "train_data /= std\n",
    "\n",
    "test_data -= mean\n",
    "\n",
    "test_data /= std\n",
    "\n",
    "print(\"Mean : \\n {0}\".format(mean))\n",
    "\n",
    "print(\"Standard Deviation : \\n {0}\".format(std))"
   ]
  },
  {
   "cell_type": "markdown",
   "id": "ab1a1f5e",
   "metadata": {},
   "source": [
    "<h4>3. BUILDING NETWORK</h4>\n",
    "\n",
    "Since very few samples are available in dataset we will build a small network(to mitigate overfitting) with only two hidden layers(with 64 units each). In general, the less training data we have, the worse the overfitting will be."
   ]
  },
  {
   "cell_type": "code",
   "execution_count": 7,
   "id": "a0743e9b",
   "metadata": {},
   "outputs": [],
   "source": [
    "#! pip install tensorflow --upgrade"
   ]
  },
  {
   "cell_type": "code",
   "execution_count": 8,
   "id": "6c884a87",
   "metadata": {},
   "outputs": [],
   "source": [
    "# Building Network \n",
    "from keras import models\n",
    "from keras import layers"
   ]
  },
  {
   "cell_type": "code",
   "execution_count": 9,
   "id": "5912b96b",
   "metadata": {},
   "outputs": [],
   "source": [
    "def build_model():\n",
    "    \n",
    "    model = models.Sequential()\n",
    "    \n",
    "    model.add(layers.Dense(64, activation='relu', input_shape=(train_data.shape[1],)))\n",
    "    \n",
    "    model.add(layers.Dense(64, activation='relu'))\n",
    "    \n",
    "    model.add(layers.Dense(1))\n",
    "    \n",
    "    # mse = (target - prediction)^2 , mae = abs(target - prediction)\n",
    "    model.compile(optimizer='rmsprop', loss='mse', metrics=['mae', 'mean_absolute_error']) \n",
    "    \n",
    "    return model"
   ]
  },
  {
   "cell_type": "markdown",
   "id": "f3047713",
   "metadata": {},
   "source": [
    "<h4> Concept behind building above model : </h4>\n",
    "\n",
    "The network ends with single unit with no activation function, since this problem is a scalar regression problem(a regression where we are trying to predict a single continuous value). \n",
    "\n",
    "Applying an activaton function would constraint the range of output. For example if we had used sigmoid as activation function\n",
    "to the last layer the network could learn to predict values between 0 and 1.\n",
    "\n",
    "Hence we have taken linear layer so that network can predict values in any range.\n",
    "\n",
    "<b>Loss Function:<b>\n",
    "    \n",
    "Here we have take loss as Mean Squared Error(MSE) = (Targets - Predictions)^2 , which is widely used among regression problems.\n",
    "\n",
    "<b>Monitoring Metric:<b>\n",
    "    \n",
    "Mean Absolute Error(MAE) is used as monitoring metric which is equivalent to abs(Predictions - Targets)\n",
    "\n",
    "Example:\n",
    "MAE of 0.6 for this problem is would mean that our predictions are off by \\\\$600 on average."
   ]
  },
  {
   "cell_type": "code",
   "execution_count": 10,
   "id": "b614f513",
   "metadata": {},
   "outputs": [
    {
     "name": "stdout",
     "output_type": "stream",
     "text": [
      "Epoch 1/80\n",
      "26/26 [==============================] - 1s 2ms/step - loss: 483.9377 - mae: 19.9624 - mean_absolute_error: 19.9624\n",
      "Epoch 2/80\n",
      "26/26 [==============================] - 0s 3ms/step - loss: 298.7777 - mae: 15.0347 - mean_absolute_error: 15.0347\n",
      "Epoch 3/80\n",
      "26/26 [==============================] - 0s 2ms/step - loss: 134.8638 - mae: 9.0483 - mean_absolute_error: 9.0483\n",
      "Epoch 4/80\n",
      "26/26 [==============================] - 0s 2ms/step - loss: 59.7116 - mae: 5.7879 - mean_absolute_error: 5.7879\n",
      "Epoch 5/80\n",
      "26/26 [==============================] - 0s 3ms/step - loss: 36.1011 - mae: 4.4449 - mean_absolute_error: 4.4449\n",
      "Epoch 6/80\n",
      "26/26 [==============================] - 0s 2ms/step - loss: 26.5361 - mae: 3.7119 - mean_absolute_error: 3.7119\n",
      "Epoch 7/80\n",
      "26/26 [==============================] - 0s 3ms/step - loss: 21.8540 - mae: 3.3323 - mean_absolute_error: 3.3323\n",
      "Epoch 8/80\n",
      "26/26 [==============================] - 0s 5ms/step - loss: 18.6554 - mae: 3.1114 - mean_absolute_error: 3.1114\n",
      "Epoch 9/80\n",
      "26/26 [==============================] - 0s 3ms/step - loss: 17.3307 - mae: 2.9097 - mean_absolute_error: 2.9097\n",
      "Epoch 10/80\n",
      "26/26 [==============================] - 0s 2ms/step - loss: 15.8565 - mae: 2.7964 - mean_absolute_error: 2.7964\n",
      "Epoch 11/80\n",
      "26/26 [==============================] - 0s 3ms/step - loss: 14.5703 - mae: 2.6917 - mean_absolute_error: 2.6917\n",
      "Epoch 12/80\n",
      "26/26 [==============================] - 0s 3ms/step - loss: 13.5994 - mae: 2.5917 - mean_absolute_error: 2.5917\n",
      "Epoch 13/80\n",
      "26/26 [==============================] - 0s 2ms/step - loss: 12.8539 - mae: 2.5471 - mean_absolute_error: 2.5471\n",
      "Epoch 14/80\n",
      "26/26 [==============================] - 0s 2ms/step - loss: 12.3413 - mae: 2.4877 - mean_absolute_error: 2.4877\n",
      "Epoch 15/80\n",
      "26/26 [==============================] - 0s 2ms/step - loss: 11.7381 - mae: 2.4642 - mean_absolute_error: 2.4642\n",
      "Epoch 16/80\n",
      "26/26 [==============================] - 0s 2ms/step - loss: 11.4694 - mae: 2.3884 - mean_absolute_error: 2.3884\n",
      "Epoch 17/80\n",
      "26/26 [==============================] - 0s 2ms/step - loss: 10.9985 - mae: 2.3394 - mean_absolute_error: 2.3394\n",
      "Epoch 18/80\n",
      "26/26 [==============================] - 0s 3ms/step - loss: 10.7980 - mae: 2.3688 - mean_absolute_error: 2.3688\n",
      "Epoch 19/80\n",
      "26/26 [==============================] - 0s 4ms/step - loss: 10.4365 - mae: 2.3161 - mean_absolute_error: 2.3161\n",
      "Epoch 20/80\n",
      "26/26 [==============================] - 0s 3ms/step - loss: 10.5025 - mae: 2.3179 - mean_absolute_error: 2.3179\n",
      "Epoch 21/80\n",
      "26/26 [==============================] - 0s 2ms/step - loss: 10.0800 - mae: 2.2868 - mean_absolute_error: 2.2868\n",
      "Epoch 22/80\n",
      "26/26 [==============================] - 0s 3ms/step - loss: 10.0609 - mae: 2.2669 - mean_absolute_error: 2.2669\n",
      "Epoch 23/80\n",
      "26/26 [==============================] - 0s 4ms/step - loss: 9.8246 - mae: 2.2312 - mean_absolute_error: 2.2312\n",
      "Epoch 24/80\n",
      "26/26 [==============================] - 0s 3ms/step - loss: 9.4952 - mae: 2.2439 - mean_absolute_error: 2.2439\n",
      "Epoch 25/80\n",
      "26/26 [==============================] - 0s 2ms/step - loss: 9.5735 - mae: 2.2108 - mean_absolute_error: 2.2108\n",
      "Epoch 26/80\n",
      "26/26 [==============================] - 0s 2ms/step - loss: 9.4266 - mae: 2.1737 - mean_absolute_error: 2.1737\n",
      "Epoch 27/80\n",
      "26/26 [==============================] - 0s 3ms/step - loss: 9.2878 - mae: 2.1831 - mean_absolute_error: 2.1831\n",
      "Epoch 28/80\n",
      "26/26 [==============================] - 0s 2ms/step - loss: 9.0628 - mae: 2.1644 - mean_absolute_error: 2.1644\n",
      "Epoch 29/80\n",
      "26/26 [==============================] - 0s 3ms/step - loss: 9.1161 - mae: 2.1212 - mean_absolute_error: 2.1212\n",
      "Epoch 30/80\n",
      "26/26 [==============================] - 0s 2ms/step - loss: 8.9101 - mae: 2.1421 - mean_absolute_error: 2.1421\n",
      "Epoch 31/80\n",
      "26/26 [==============================] - 0s 2ms/step - loss: 8.9614 - mae: 2.1261 - mean_absolute_error: 2.1261\n",
      "Epoch 32/80\n",
      "26/26 [==============================] - 0s 3ms/step - loss: 8.7246 - mae: 2.0943 - mean_absolute_error: 2.0943\n",
      "Epoch 33/80\n",
      "26/26 [==============================] - 0s 2ms/step - loss: 8.8263 - mae: 2.1184 - mean_absolute_error: 2.1184\n",
      "Epoch 34/80\n",
      "26/26 [==============================] - 0s 2ms/step - loss: 8.7089 - mae: 2.0712 - mean_absolute_error: 2.0712\n",
      "Epoch 35/80\n",
      "26/26 [==============================] - 0s 3ms/step - loss: 8.5013 - mae: 2.0656 - mean_absolute_error: 2.0656\n",
      "Epoch 36/80\n",
      "26/26 [==============================] - 0s 2ms/step - loss: 8.6091 - mae: 2.1061 - mean_absolute_error: 2.1061\n",
      "Epoch 37/80\n",
      "26/26 [==============================] - 0s 3ms/step - loss: 8.4679 - mae: 2.0579 - mean_absolute_error: 2.0579\n",
      "Epoch 38/80\n",
      "26/26 [==============================] - 0s 3ms/step - loss: 8.2580 - mae: 2.0488 - mean_absolute_error: 2.0488\n",
      "Epoch 39/80\n",
      "26/26 [==============================] - 0s 4ms/step - loss: 8.2990 - mae: 2.0819 - mean_absolute_error: 2.0819\n",
      "Epoch 40/80\n",
      "26/26 [==============================] - 0s 3ms/step - loss: 8.1403 - mae: 1.9974 - mean_absolute_error: 1.9974\n",
      "Epoch 41/80\n",
      "26/26 [==============================] - 0s 2ms/step - loss: 8.1345 - mae: 2.0160 - mean_absolute_error: 2.0160\n",
      "Epoch 42/80\n",
      "26/26 [==============================] - 0s 3ms/step - loss: 8.1236 - mae: 2.0187 - mean_absolute_error: 2.0187\n",
      "Epoch 43/80\n",
      "26/26 [==============================] - 0s 2ms/step - loss: 7.9948 - mae: 2.0246 - mean_absolute_error: 2.0246\n",
      "Epoch 44/80\n",
      "26/26 [==============================] - 0s 4ms/step - loss: 8.0536 - mae: 1.9857 - mean_absolute_error: 1.9857\n",
      "Epoch 45/80\n",
      "26/26 [==============================] - 0s 5ms/step - loss: 7.9322 - mae: 1.9971 - mean_absolute_error: 1.9971\n",
      "Epoch 46/80\n",
      "26/26 [==============================] - 0s 3ms/step - loss: 7.8808 - mae: 1.9600 - mean_absolute_error: 1.9600\n",
      "Epoch 47/80\n",
      "26/26 [==============================] - 0s 2ms/step - loss: 7.8559 - mae: 1.9938 - mean_absolute_error: 1.9938\n",
      "Epoch 48/80\n",
      "26/26 [==============================] - 0s 2ms/step - loss: 7.8948 - mae: 1.9967 - mean_absolute_error: 1.9967\n",
      "Epoch 49/80\n",
      "26/26 [==============================] - 0s 3ms/step - loss: 7.5861 - mae: 1.9281 - mean_absolute_error: 1.9281\n",
      "Epoch 50/80\n",
      "26/26 [==============================] - 0s 3ms/step - loss: 7.6469 - mae: 1.9424 - mean_absolute_error: 1.9424\n",
      "Epoch 51/80\n",
      "26/26 [==============================] - 0s 2ms/step - loss: 7.6022 - mae: 1.9520 - mean_absolute_error: 1.9520\n",
      "Epoch 52/80\n",
      "26/26 [==============================] - 0s 2ms/step - loss: 7.6168 - mae: 1.9198 - mean_absolute_error: 1.9198\n",
      "Epoch 53/80\n",
      "26/26 [==============================] - 0s 3ms/step - loss: 7.4027 - mae: 1.9120 - mean_absolute_error: 1.9120\n",
      "Epoch 54/80\n",
      "26/26 [==============================] - 0s 2ms/step - loss: 7.3581 - mae: 1.9079 - mean_absolute_error: 1.9079\n",
      "Epoch 55/80\n",
      "26/26 [==============================] - 0s 2ms/step - loss: 7.4588 - mae: 1.9457 - mean_absolute_error: 1.9457\n",
      "Epoch 56/80\n",
      "26/26 [==============================] - 0s 2ms/step - loss: 7.3132 - mae: 1.9330 - mean_absolute_error: 1.9330\n",
      "Epoch 57/80\n",
      "26/26 [==============================] - 0s 2ms/step - loss: 7.4607 - mae: 1.9199 - mean_absolute_error: 1.9199\n",
      "Epoch 58/80\n",
      "26/26 [==============================] - 0s 2ms/step - loss: 7.0647 - mae: 1.8627 - mean_absolute_error: 1.8627\n",
      "Epoch 59/80\n",
      "26/26 [==============================] - 0s 2ms/step - loss: 7.1407 - mae: 1.9167 - mean_absolute_error: 1.9167\n",
      "Epoch 60/80\n",
      "26/26 [==============================] - 0s 2ms/step - loss: 7.1497 - mae: 1.8796 - mean_absolute_error: 1.8796\n",
      "Epoch 61/80\n",
      "26/26 [==============================] - 0s 2ms/step - loss: 6.9127 - mae: 1.8736 - mean_absolute_error: 1.8736\n",
      "Epoch 62/80\n",
      "26/26 [==============================] - 0s 2ms/step - loss: 7.2094 - mae: 1.8816 - mean_absolute_error: 1.8816\n",
      "Epoch 63/80\n",
      "26/26 [==============================] - 0s 3ms/step - loss: 6.9363 - mae: 1.8710 - mean_absolute_error: 1.8710\n",
      "Epoch 64/80\n",
      "26/26 [==============================] - 0s 4ms/step - loss: 6.8932 - mae: 1.8738 - mean_absolute_error: 1.8738\n",
      "Epoch 65/80\n",
      "26/26 [==============================] - 0s 4ms/step - loss: 6.8247 - mae: 1.8408 - mean_absolute_error: 1.8408\n",
      "Epoch 66/80\n"
     ]
    },
    {
     "name": "stdout",
     "output_type": "stream",
     "text": [
      "26/26 [==============================] - 0s 2ms/step - loss: 6.7184 - mae: 1.8478 - mean_absolute_error: 1.8478\n",
      "Epoch 67/80\n",
      "26/26 [==============================] - 0s 2ms/step - loss: 6.8220 - mae: 1.8223 - mean_absolute_error: 1.8223\n",
      "Epoch 68/80\n",
      "26/26 [==============================] - 0s 2ms/step - loss: 6.8282 - mae: 1.8567 - mean_absolute_error: 1.8567\n",
      "Epoch 69/80\n",
      "26/26 [==============================] - 0s 3ms/step - loss: 6.6701 - mae: 1.8241 - mean_absolute_error: 1.8241\n",
      "Epoch 70/80\n",
      "26/26 [==============================] - 0s 5ms/step - loss: 6.5824 - mae: 1.8042 - mean_absolute_error: 1.8042\n",
      "Epoch 71/80\n",
      "26/26 [==============================] - 0s 3ms/step - loss: 6.4899 - mae: 1.8117 - mean_absolute_error: 1.8117\n",
      "Epoch 72/80\n",
      "26/26 [==============================] - 0s 2ms/step - loss: 6.6355 - mae: 1.8415 - mean_absolute_error: 1.8415\n",
      "Epoch 73/80\n",
      "26/26 [==============================] - 0s 2ms/step - loss: 6.3577 - mae: 1.7899 - mean_absolute_error: 1.7899\n",
      "Epoch 74/80\n",
      "26/26 [==============================] - 0s 2ms/step - loss: 6.5178 - mae: 1.8029 - mean_absolute_error: 1.8029\n",
      "Epoch 75/80\n",
      "26/26 [==============================] - 0s 2ms/step - loss: 6.3501 - mae: 1.7559 - mean_absolute_error: 1.7559\n",
      "Epoch 76/80\n",
      "26/26 [==============================] - 0s 3ms/step - loss: 6.4500 - mae: 1.7716 - mean_absolute_error: 1.7716\n",
      "Epoch 77/80\n",
      "26/26 [==============================] - 0s 4ms/step - loss: 6.2462 - mae: 1.7657 - mean_absolute_error: 1.7657\n",
      "Epoch 78/80\n",
      "26/26 [==============================] - 0s 4ms/step - loss: 6.2110 - mae: 1.7562 - mean_absolute_error: 1.7562\n",
      "Epoch 79/80\n",
      "26/26 [==============================] - 0s 4ms/step - loss: 6.1510 - mae: 1.7547 - mean_absolute_error: 1.7547\n",
      "Epoch 80/80\n",
      "26/26 [==============================] - 0s 2ms/step - loss: 6.4161 - mae: 1.7645 - mean_absolute_error: 1.7645\n",
      "4/4 [==============================] - 0s 2ms/step - loss: 16.7191 - mae: 2.6130 - mean_absolute_error: 2.6130\n"
     ]
    }
   ],
   "source": [
    "base_model = build_model()\n",
    "\n",
    "# fit the model\n",
    "base_model.fit(train_data, train_targets, epochs=80, batch_size=16, verbose=1)\n",
    "\n",
    "loss, test_mse_score, test_mae_score = base_model.evaluate(test_data, test_targets) "
   ]
  },
  {
   "cell_type": "markdown",
   "id": "249cc01b",
   "metadata": {},
   "source": [
    "If let's say MAE is 0.5 for this problem that means our predictions is off by $500 on an average"
   ]
  },
  {
   "cell_type": "code",
   "execution_count": 11,
   "id": "a70b42ee",
   "metadata": {},
   "outputs": [
    {
     "data": {
      "text/plain": [
       "2.6129815578460693"
      ]
     },
     "execution_count": 11,
     "metadata": {},
     "output_type": "execute_result"
    }
   ],
   "source": [
    "test_mae_score "
   ]
  },
  {
   "cell_type": "code",
   "execution_count": 12,
   "id": "3391dc1f",
   "metadata": {},
   "outputs": [
    {
     "data": {
      "text/plain": [
       "2.6129815578460693"
      ]
     },
     "execution_count": 12,
     "metadata": {},
     "output_type": "execute_result"
    }
   ],
   "source": [
    "test_mse_score"
   ]
  },
  {
   "cell_type": "markdown",
   "id": "ee64ceed",
   "metadata": {},
   "source": [
    "<h4>3.1 Validation using K-fold Approach</h4>\n",
    "\n",
    "Because we have very few data points available for validation, as a result validation score will change a lot depending on the data points we choose for validation and which we choose for training.\n",
    "\n",
    "This results is high variance in validation score, which will impact the evaluation of model. Hence using K-fold cross-validation technique. It consists of splitting the dataset into K partitions, and training each one of the K-1 partitions while evaluating on the remaining partition.\n",
    "\n",
    "The validation score of the model is average of the K validation scores obtained.\n",
    "\n",
    "Below is an example with K=3"
   ]
  },
  {
   "attachments": {
    "image.png": {
     "image/png": "[encoded data removed]"
    }
   },
   "cell_type": "markdown",
   "id": "d1c2b60e",
   "metadata": {},
   "source": [
    "![image.png](attachment:image.png)"
   ]
  },
  {
   "cell_type": "code",
   "execution_count": 13,
   "id": "74162d68",
   "metadata": {},
   "outputs": [
    {
     "name": "stdout",
     "output_type": "stream",
     "text": [
      "101\n"
     ]
    }
   ],
   "source": [
    "k = 4\n",
    "\n",
    "num_val_samples = len(train_data) // k\n",
    "\n",
    "print(num_val_samples)"
   ]
  },
  {
   "cell_type": "code",
   "execution_count": 14,
   "id": "d683dbbe",
   "metadata": {},
   "outputs": [
    {
     "name": "stdout",
     "output_type": "stream",
     "text": [
      "Fold is 0\n",
      "Fold is 1\n",
      "Fold is 2\n",
      "Fold is 3\n"
     ]
    }
   ],
   "source": [
    "num_epochs = 500\n",
    "\n",
    "scores = [] # For storing the validation score will take average at the end\n",
    "\n",
    "for i in range(k):\n",
    "    \n",
    "    print(\"Fold is {}\".format(i))\n",
    "    \n",
    "    val_data = train_data[i * num_val_samples : (i+1) * num_val_samples]\n",
    "    \n",
    "    val_targets = train_targets[i * num_val_samples : (i+1) * num_val_samples]\n",
    "    \n",
    "    temp_train_data = np.concatenate([train_data[:i * num_val_samples], train_data[(i+1) * num_val_samples:]], axis = 0)\n",
    "    \n",
    "    temp_train_targets = np.concatenate([train_targets[:i * num_val_samples], train_targets[(i+1) * num_val_samples:]],\n",
    "                                        axis = 0)\n",
    "    \n",
    "    model_2 = build_model()\n",
    "    \n",
    "    history = model_2.fit(temp_train_data, temp_train_targets, validation_data=(val_data, val_targets), epochs = num_epochs, \n",
    "                          verbose = 0)\n",
    "    \n",
    "    #val_mse, val_mae = model_2.evaluate(val_data, val_targets, verbose=0)\n",
    "    \n",
    "    mae_history = history.history['val_mean_absolute_error']\n",
    "    \n",
    "    #print(mae_history)\n",
    "    \n",
    "    scores.append(mae_history)"
   ]
  },
  {
   "cell_type": "code",
   "execution_count": 15,
   "id": "9cb6fea7",
   "metadata": {},
   "outputs": [],
   "source": [
    "avg_mae_history = [np.mean([x[i] for x in scores]) for i in range(num_epochs)]"
   ]
  },
  {
   "cell_type": "markdown",
   "id": "54ae96c5",
   "metadata": {},
   "source": [
    "<h4>3.2 Plotting Validation Scores</h4>"
   ]
  },
  {
   "cell_type": "code",
   "execution_count": 16,
   "id": "43310db8",
   "metadata": {},
   "outputs": [
    {
     "data": {
      "image/png": "[encoded data removed]",
      "text/plain": [
       "<Figure size 432x288 with 1 Axes>"
      ]
     },
     "metadata": {
      "needs_background": "light"
     },
     "output_type": "display_data"
    }
   ],
   "source": [
    "plt.plot(range(1, len(avg_mae_history) + 1), avg_mae_history)\n",
    "\n",
    "plt.xlabel('Epochs')\n",
    "\n",
    "plt.ylabel('Validation MAE')\n",
    "\n",
    "plt.show()"
   ]
  },
  {
   "cell_type": "code",
   "execution_count": 17,
   "id": "156cd4a6",
   "metadata": {},
   "outputs": [
    {
     "data": {
      "image/png": "[encoded data removed]",
      "text/plain": [
       "<Figure size 432x288 with 1 Axes>"
      ]
     },
     "metadata": {
      "needs_background": "light"
     },
     "output_type": "display_data"
    }
   ],
   "source": [
    "\"\"\"\n",
    "There are scaling issues in above plot , therefore omitting first 10 points which are on different scale\n",
    "\"\"\"\n",
    "def smooth_curve(points, factor=0.9):\n",
    "    \n",
    "    smoothed_points = []\n",
    "    \n",
    "    for point in points:\n",
    "        \n",
    "        if smoothed_points:\n",
    "            \n",
    "            previous = smoothed_points[-1]\n",
    "            \n",
    "            smoothed_points.append(previous * factor + point * (1 - factor))\n",
    "            \n",
    "        else:\n",
    "            \n",
    "            smoothed_points.append(point)\n",
    "            \n",
    "    return smoothed_points\n",
    "\n",
    "smoothed_mae_history = smooth_curve(avg_mae_history[10:])\n",
    "\n",
    "plt.plot(range(1, len(smoothed_mae_history) + 1), smoothed_mae_history)\n",
    "\n",
    "plt.xlabel('Epochs')\n",
    "\n",
    "plt.ylabel('Validation MAE')\n",
    "\n",
    "plt.show()"
   ]
  },
  {
   "cell_type": "markdown",
   "id": "f18ca5c9",
   "metadata": {},
   "source": [
    "<p>Observation :<p>\n",
    "According to above plot, validation MAE stops improving significantly after 80 epochs, past that point starts overfitting"
   ]
  },
  {
   "cell_type": "code",
   "execution_count": 18,
   "id": "32589f78",
   "metadata": {},
   "outputs": [
    {
     "name": "stdout",
     "output_type": "stream",
     "text": [
      "4/4 [==============================] - 0s 2ms/step - loss: 17.1578 - mae: 2.6453 - mean_absolute_error: 2.6453\n",
      "2.645271062850952\n"
     ]
    }
   ],
   "source": [
    "#Training the final model\n",
    "final_model = build_model()\n",
    "\n",
    "final_model.fit(train_data, train_targets, epochs=80, batch_size=16, verbose=0)\n",
    "\n",
    "loss, test_mse_score, test_mae_score = final_model.evaluate(test_data, test_targets)\n",
    "\n",
    "print(test_mae_score)"
   ]
  },
  {
   "cell_type": "markdown",
   "id": "b1ef3006",
   "metadata": {},
   "source": [
    "<b>Conclusion :<b> \n",
    "\n",
    "We are off by \\\\$2,600 on average."
   ]
  },
  {
   "cell_type": "markdown",
   "id": "b32917eb",
   "metadata": {},
   "source": [
    "<h4>Points learned by this problem:</h4>\n",
    "\n",
    "1. When features in the input data varies from differnt ranges, each feature should be normalize in order to achieve faster learning.\n",
    "2. When there is small dataset available , we can use K-fold validation technique to evaluate our model.\n",
    "3. When small dataset is available, it is prefered to use a small network with few hidden layers to avoid overfitting."
   ]
  }
 ],
 "metadata": {
  "kernelspec": {
   "display_name": "abhay_venv",
   "language": "python",
   "name": "abhay_venv"
  },
  "language_info": {
   "codemirror_mode": {
    "name": "ipython",
    "version": 3
   },
   "file_extension": ".py",
   "mimetype": "text/x-python",
   "name": "python",
   "nbconvert_exporter": "python",
   "pygments_lexer": "ipython3",
   "version": "3.8.12"
  }
 },
 "nbformat": 4,
 "nbformat_minor": 5
}
